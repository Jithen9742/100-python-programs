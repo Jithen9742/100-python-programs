{
  "nbformat": 4,
  "nbformat_minor": 0,
  "metadata": {
    "colab": {
      "provenance": []
    },
    "kernelspec": {
      "name": "python3",
      "display_name": "Python 3"
    },
    "language_info": {
      "name": "python"
    }
  },
  "cells": [
    {
      "cell_type": "markdown",
      "source": [
        "**1.Write a Python program to print \"Hello Python\".**"
      ],
      "metadata": {
        "id": "-yKAdin_6jgS"
      }
    },
    {
      "cell_type": "code",
      "execution_count": null,
      "metadata": {
        "colab": {
          "base_uri": "https://localhost:8080/"
        },
        "id": "TgIY7Abr6boj",
        "outputId": "74ff71d3-12ba-4ab6-adad-305d910ba747"
      },
      "outputs": [
        {
          "output_type": "stream",
          "name": "stdout",
          "text": [
            "Hello python\n"
          ]
        }
      ],
      "source": [
        "print('Hello python')"
      ]
    },
    {
      "cell_type": "markdown",
      "source": [
        "**2.Write a Python program to do arithmetical operations addition and division.**"
      ],
      "metadata": {
        "id": "icAY2yeS6yPM"
      }
    },
    {
      "cell_type": "code",
      "source": [
        "num1=float(input('Enter number 1'))\n",
        "num2=float(input('Enter number 2'))\n",
        "print(f'Addition {num1 + num2}')\n",
        "\n",
        "if num1>num2:\n",
        "  print(f'Division {num1/num2}')\n",
        "else:\n",
        "  print(f'Division {num2/num1}')"
      ],
      "metadata": {
        "colab": {
          "base_uri": "https://localhost:8080/"
        },
        "id": "ye-M56EH60aI",
        "outputId": "60721ded-a8d4-4528-af0b-91adbf4cbc54"
      },
      "execution_count": null,
      "outputs": [
        {
          "output_type": "stream",
          "name": "stdout",
          "text": [
            "Enter number 110\n",
            "Enter number 25\n",
            "Addition 15.0\n",
            "Division 2.0\n"
          ]
        }
      ]
    },
    {
      "cell_type": "markdown",
      "source": [
        "**3.Write a Python program to find the area of a triangle.**"
      ],
      "metadata": {
        "id": "Psh-I6p371QV"
      }
    },
    {
      "cell_type": "code",
      "source": [
        "height=int(input('Enter height '))\n",
        "base=int(input('Enter base '))\n",
        "area=0.5*base*height\n",
        "print(f'Area of triangle {area}')"
      ],
      "metadata": {
        "colab": {
          "base_uri": "https://localhost:8080/"
        },
        "id": "bHUoZr8e70Ta",
        "outputId": "b2e36cb4-3d70-49bb-d557-3c6402163ddd"
      },
      "execution_count": null,
      "outputs": [
        {
          "output_type": "stream",
          "name": "stdout",
          "text": [
            "Enter height 12\n",
            "Enter base 3\n",
            "Area of triangle 18.0\n"
          ]
        }
      ]
    },
    {
      "cell_type": "markdown",
      "source": [
        "**4.Write a Python program to swap two variables.**"
      ],
      "metadata": {
        "id": "_eaU5cqL8c9n"
      }
    },
    {
      "cell_type": "code",
      "source": [
        "num1=int(input(\"Enter number 1 \"))\n",
        "num2=int(input('Enter number 2 '))\n",
        "print(f'Number 1: {num1}')\n",
        "print(f'Number 2: {num2}')\n",
        "temp=num1\n",
        "num1=num2\n",
        "num2=temp\n",
        "print('After swapping')\n",
        "print(f'Number 1: {num1}')\n",
        "print(f'Number 2: {num2}')"
      ],
      "metadata": {
        "colab": {
          "base_uri": "https://localhost:8080/"
        },
        "id": "uPCxD-ZV8gkz",
        "outputId": "c53a9120-8788-4a12-c067-820a887d3f55"
      },
      "execution_count": null,
      "outputs": [
        {
          "output_type": "stream",
          "name": "stdout",
          "text": [
            "Enter number 1 10\n",
            "Enter number 2 5\n",
            "Number 1: 10\n",
            "Number 2: 5\n",
            "After swapping\n",
            "Number 1: 5\n",
            "Number 2: 10\n"
          ]
        }
      ]
    },
    {
      "cell_type": "markdown",
      "source": [
        "**5.Write a Python program to generate a random number.**"
      ],
      "metadata": {
        "id": "wmGUnnlk9PWu"
      }
    },
    {
      "cell_type": "code",
      "source": [
        "import numpy as np\n",
        "a=np.random.randint(1,100)\n",
        "print(a)"
      ],
      "metadata": {
        "colab": {
          "base_uri": "https://localhost:8080/"
        },
        "id": "IzOdHb2f9Tsx",
        "outputId": "788bd1b4-6454-47fe-dfac-57c669810a77"
      },
      "execution_count": null,
      "outputs": [
        {
          "output_type": "stream",
          "name": "stdout",
          "text": [
            "66\n"
          ]
        }
      ]
    },
    {
      "cell_type": "markdown",
      "source": [
        "**6.Write a Python program to convert kilometers to miles.**"
      ],
      "metadata": {
        "id": "zKCF3gwZ9o9L"
      }
    },
    {
      "cell_type": "code",
      "source": [
        "km=float(input('Enter Km '))\n",
        "miles=km*0.621\n",
        "print(f'Miles={miles}')"
      ],
      "metadata": {
        "colab": {
          "base_uri": "https://localhost:8080/"
        },
        "id": "J10NRFii9oUi",
        "outputId": "286b26e0-2158-4b43-c4c2-8d4d3f866852"
      },
      "execution_count": null,
      "outputs": [
        {
          "output_type": "stream",
          "name": "stdout",
          "text": [
            "Enter Km 100\n",
            "Miles=62.1\n"
          ]
        }
      ]
    },
    {
      "cell_type": "markdown",
      "source": [
        "**7.Write a Python program to convert Celsius to Fahrenheit.**"
      ],
      "metadata": {
        "id": "NUnr2GIa-n9S"
      }
    },
    {
      "cell_type": "code",
      "source": [
        "celsius=float(input('Enter celsius '))\n",
        "f=(celsius*(9/5))+32\n",
        "print(f'Fahrenheit={f}')"
      ],
      "metadata": {
        "colab": {
          "base_uri": "https://localhost:8080/"
        },
        "id": "WzSKb38J-ram",
        "outputId": "fc4b27cb-a1af-4e6d-ad8f-a0a775f2e84c"
      },
      "execution_count": null,
      "outputs": [
        {
          "output_type": "stream",
          "name": "stdout",
          "text": [
            "Enter celsius 37\n",
            "Fahrenheit=98.60000000000001\n"
          ]
        }
      ]
    },
    {
      "cell_type": "markdown",
      "source": [
        "**8.Write a Python program to display calendar.**"
      ],
      "metadata": {
        "id": "LGMFxyPD_UFQ"
      }
    },
    {
      "cell_type": "code",
      "source": [
        "import calendar as c\n",
        "year=int(input('Enter year: '))\n",
        "month=int(input('Enter month: '))\n",
        "cal=c.month(year,month)\n",
        "print(cal)"
      ],
      "metadata": {
        "colab": {
          "base_uri": "https://localhost:8080/"
        },
        "id": "38CD1_Yp_WUF",
        "outputId": "b08d49ed-8db3-4672-c60e-881953407ecc"
      },
      "execution_count": null,
      "outputs": [
        {
          "output_type": "stream",
          "name": "stdout",
          "text": [
            "Enter year: 2025\n",
            "Enter month: 5\n",
            "      May 2025\n",
            "Mo Tu We Th Fr Sa Su\n",
            "          1  2  3  4\n",
            " 5  6  7  8  9 10 11\n",
            "12 13 14 15 16 17 18\n",
            "19 20 21 22 23 24 25\n",
            "26 27 28 29 30 31\n",
            "\n"
          ]
        }
      ]
    },
    {
      "cell_type": "markdown",
      "source": [
        "**9.Write a Python program to solve quadratic equation.**"
      ],
      "metadata": {
        "id": "dxBEIQPr_-2w"
      }
    },
    {
      "cell_type": "code",
      "source": [
        "#The solutions of this quadratic equation is given by: (−b ± (b^2 − 4ac)^1/2/(2a)\n",
        "import math\n",
        "a=int(input('Enter a: '))\n",
        "b=int(input('Enter b: '))\n",
        "c=int(input('Enter c: '))\n",
        "descrimant=b**2-4*a*c\n",
        "if descrimant>0:\n",
        "  root1=(-b+math.sqrt(descrimant))/2*a\n",
        "  root2=(-b-math.sqrt(descrimant))/2*a\n",
        "  print(f\"Root 1={root1}\")\n",
        "  print(f\"Root 2={root2}\")\n",
        "elif descrimant==0:\n",
        "  print(f'Root '-b/(2*a))\n",
        "else:\n",
        "  real_part=-b/(2*a)\n",
        "  imaginary_part=math.sqrt(abs(descrimant))/(2*a)\n",
        "  print(f'Root 1 :{real_part} + {imaginary_part}i')\n",
        "  print(f'Root 2 :{real_part} - {imaginary_part}i')"
      ],
      "metadata": {
        "colab": {
          "base_uri": "https://localhost:8080/"
        },
        "id": "d_vuheg9ADKw",
        "outputId": "79f787ba-630d-499c-fc53-d09fbfa1bec4"
      },
      "execution_count": null,
      "outputs": [
        {
          "output_type": "stream",
          "name": "stdout",
          "text": [
            "Enter a: 1\n",
            "Enter b: 4\n",
            "Enter c: 8\n",
            "Root 1 :-2.0 + 2.0i\n",
            "Root 2 :-2.0 - 2.0i\n"
          ]
        }
      ]
    },
    {
      "cell_type": "markdown",
      "source": [
        "**10.Write a Python program to swap two variables without temp variable.**"
      ],
      "metadata": {
        "id": "F55fgOlFFMBw"
      }
    },
    {
      "cell_type": "code",
      "source": [
        "num1=int(input('Enter Number a: '))\n",
        "num2=int(input('Enter Number b: '))\n",
        "print(f'a={num1}')\n",
        "print(f'b={num2}')\n",
        "num1,num2=num2,num1\n",
        "print('After swaping')\n",
        "print(f'a={num1}')\n",
        "print(f'b={num2}')"
      ],
      "metadata": {
        "colab": {
          "base_uri": "https://localhost:8080/"
        },
        "id": "KEAw3oRdF9xO",
        "outputId": "030d418b-9277-40ae-91f2-12df007f2cc2"
      },
      "execution_count": null,
      "outputs": [
        {
          "output_type": "stream",
          "name": "stdout",
          "text": [
            "Enter Number a: 10\n",
            "Enter Number b: 5\n",
            "a=10\n",
            "b=5\n",
            "After swaping\n",
            "a=5\n",
            "b=10\n"
          ]
        }
      ]
    },
    {
      "cell_type": "markdown",
      "source": [
        "**11.Write a Python Program to Check if a Number is Positive, Negative or Zero.**"
      ],
      "metadata": {
        "id": "Yi2D8mkmGVhc"
      }
    },
    {
      "cell_type": "code",
      "source": [
        "num=int(input('Enter number '))\n",
        "if num>0:\n",
        "  print('Positive number')\n",
        "elif num==0:\n",
        "  print('It is 0')\n",
        "else:\n",
        "  print('Negative Number')"
      ],
      "metadata": {
        "colab": {
          "base_uri": "https://localhost:8080/"
        },
        "id": "CghXjpWxGaXv",
        "outputId": "30d8405d-2b04-41bc-b0c0-47ce4e43252f"
      },
      "execution_count": null,
      "outputs": [
        {
          "output_type": "stream",
          "name": "stdout",
          "text": [
            "Enter number 12\n",
            "Positive number\n"
          ]
        }
      ]
    },
    {
      "cell_type": "markdown",
      "source": [
        "**12.Write a Python Program to Check if a Number is Odd or Even.**"
      ],
      "metadata": {
        "id": "D75mjkCsGx1z"
      }
    },
    {
      "cell_type": "code",
      "source": [
        "num=int(input('Enter Number '))\n",
        "if num%2==0:\n",
        "  print(f'{num} is Even Number')\n",
        "else:\n",
        "  print(f'{num} is Odd Number')"
      ],
      "metadata": {
        "colab": {
          "base_uri": "https://localhost:8080/"
        },
        "id": "783IfB1TG1ml",
        "outputId": "c50b0f6f-8678-4f5d-87c6-6a1800056b99"
      },
      "execution_count": null,
      "outputs": [
        {
          "output_type": "stream",
          "name": "stdout",
          "text": [
            "Enter Number 3\n",
            "3 is Odd Number\n"
          ]
        }
      ]
    },
    {
      "cell_type": "markdown",
      "source": [
        "**13.Write a Python Program to Check Leap Year.**"
      ],
      "metadata": {
        "id": "OlgCDgMQHT1t"
      }
    },
    {
      "cell_type": "code",
      "source": [
        "year=int(input('Enter year: '))\n",
        "\n",
        "# If year is divided by 100 means century year and century year is divided by 400 is leap year\n",
        "# If year is divided 4 means leap year\n",
        "\n",
        "if (year%400==0) and (year%100==0):\n",
        "  print(f'{year} is leap year')\n",
        "elif (year%4==0) and (year%100!=0):\n",
        "  print(f'{year} is leap year')\n",
        "else:\n",
        "  print(f'{year} is not leap year')"
      ],
      "metadata": {
        "colab": {
          "base_uri": "https://localhost:8080/"
        },
        "id": "PU6dveOkHXdP",
        "outputId": "2323c4d0-d10a-4cd0-a6fe-1da10087c8fa"
      },
      "execution_count": null,
      "outputs": [
        {
          "output_type": "stream",
          "name": "stdout",
          "text": [
            "Enter year: 2024\n",
            "2024 is leap year\n"
          ]
        }
      ]
    },
    {
      "cell_type": "markdown",
      "source": [
        "**14.Write a Python Program to Check Prime Number.**"
      ],
      "metadata": {
        "id": "I7B2JsKZNLWq"
      }
    },
    {
      "cell_type": "code",
      "source": [
        "num=int(input('Enter the number '))\n",
        "\n",
        "flag=True\n",
        "\n",
        "for i in range(2,num):\n",
        "  if num%i==0:\n",
        "    flag=False\n",
        "    break\n",
        "if flag:\n",
        "  print(f'{num} is Prime number')\n",
        "else:\n",
        "  print(f'{num} is not a prime number')"
      ],
      "metadata": {
        "id": "x0ror0mmNR0L",
        "colab": {
          "base_uri": "https://localhost:8080/"
        },
        "outputId": "17520d62-82a0-4cb9-d8f5-675efd957e7e"
      },
      "execution_count": null,
      "outputs": [
        {
          "output_type": "stream",
          "name": "stdout",
          "text": [
            "Enter the number 3\n",
            "3 is Prime number\n"
          ]
        }
      ]
    },
    {
      "cell_type": "markdown",
      "source": [
        "**15.Write a Python Program to Print all Prime Numbers in an Interval of 1-10.**"
      ],
      "metadata": {
        "id": "hMm9bBcKmayE"
      }
    },
    {
      "cell_type": "code",
      "source": [
        "lower=1\n",
        "upper=10\n",
        "for i in range(lower,upper+1):\n",
        "  if i>1:\n",
        "    for j in range(2,i):\n",
        "      if i%j==0:\n",
        "        break\n",
        "      else:\n",
        "        print(i)\n",
        "        break"
      ],
      "metadata": {
        "colab": {
          "base_uri": "https://localhost:8080/"
        },
        "id": "KhYrB_JSmhW_",
        "outputId": "01d4fb38-b65e-4dca-f1dc-93cfecec068f"
      },
      "execution_count": null,
      "outputs": [
        {
          "output_type": "stream",
          "name": "stdout",
          "text": [
            "3\n",
            "5\n",
            "7\n",
            "9\n"
          ]
        }
      ]
    },
    {
      "cell_type": "markdown",
      "source": [
        "**16.Write a Python Program to Find the Factorial of a Number.**"
      ],
      "metadata": {
        "id": "YJLrEsIQpqVR"
      }
    },
    {
      "cell_type": "code",
      "source": [
        "num=int(input('Enter Number: '))\n",
        "fact=1\n",
        "if num<1:\n",
        "  print('No factorial for negative numbers')\n",
        "elif num==0:\n",
        "  print('Factorial for 0 is 1')\n",
        "else:\n",
        "  for i in range(1,num+1):\n",
        "    fact=fact*i\n",
        "  print(f'Factorial of {num} is {fact}')"
      ],
      "metadata": {
        "colab": {
          "base_uri": "https://localhost:8080/"
        },
        "id": "mrnlwymbpoLI",
        "outputId": "9915bc56-edc6-4518-e5e3-e4b998e7498d"
      },
      "execution_count": null,
      "outputs": [
        {
          "output_type": "stream",
          "name": "stdout",
          "text": [
            "Enter Number: 10\n",
            "Factorial of 10 is 3628800\n"
          ]
        }
      ]
    },
    {
      "cell_type": "markdown",
      "source": [
        "**17.Write a Python Program to Display the multiplication Table.**"
      ],
      "metadata": {
        "id": "CPa2eYhKqfbb"
      }
    },
    {
      "cell_type": "code",
      "source": [
        "num=int(input(\"Enter the number: \"))\n",
        "if num>1:\n",
        "  for i in range(1,11):\n",
        "    print(f'{i} X {num} = {i*num}')"
      ],
      "metadata": {
        "colab": {
          "base_uri": "https://localhost:8080/"
        },
        "id": "GRrx_DQeqiIC",
        "outputId": "7d1a700e-c915-4bdb-ec91-d887f7d11650"
      },
      "execution_count": null,
      "outputs": [
        {
          "output_type": "stream",
          "name": "stdout",
          "text": [
            "Enter the number: 19\n",
            "1 X 19 = 19\n",
            "2 X 19 = 38\n",
            "3 X 19 = 57\n",
            "4 X 19 = 76\n",
            "5 X 19 = 95\n",
            "6 X 19 = 114\n",
            "7 X 19 = 133\n",
            "8 X 19 = 152\n",
            "9 X 19 = 171\n",
            "10 X 19 = 190\n"
          ]
        }
      ]
    },
    {
      "cell_type": "markdown",
      "source": [
        "**18.Write a Python Program to Print the Fibonacci sequence.**"
      ],
      "metadata": {
        "id": "K91PVSiRrId6"
      }
    },
    {
      "cell_type": "code",
      "source": [
        "num=int(input('Enter how many terms: '))\n",
        "n1,n2=0,1\n",
        "count=0\n",
        "if num<0:\n",
        "  print('Please enter positive number')\n",
        "elif num==1:\n",
        "  print(num)\n",
        "else:\n",
        "  while count<num:\n",
        "    nth=n1+n2\n",
        "    print(n1)\n",
        "    n1=n2\n",
        "    n2=nth\n",
        "    count+=1"
      ],
      "metadata": {
        "colab": {
          "base_uri": "https://localhost:8080/"
        },
        "id": "nU1JsOfdrDOH",
        "outputId": "6b3ba5f1-8174-4567-c39b-84ae13659744"
      },
      "execution_count": null,
      "outputs": [
        {
          "output_type": "stream",
          "name": "stdout",
          "text": [
            "Enter how many terms: 10\n",
            "0\n",
            "1\n",
            "1\n",
            "2\n",
            "3\n",
            "5\n",
            "8\n",
            "13\n",
            "21\n",
            "34\n"
          ]
        }
      ]
    },
    {
      "cell_type": "markdown",
      "source": [
        "**19.Write a Python Program to Check Armstrong Number?**"
      ],
      "metadata": {
        "id": "M8eRccdPtl7s"
      }
    },
    {
      "cell_type": "code",
      "source": [
        "num=int(input('Enter the number: '))\n",
        "num_str=str(num)\n",
        "num_len=len(num_str)\n",
        "temp=num\n",
        "sum_of_dig=0\n",
        "while temp>0:\n",
        "  digits=temp%10\n",
        "  sum_of_dig+=digits**num_len\n",
        "  temp//=10\n",
        "if sum_of_dig==num:\n",
        "  print(f'{num} is Amstrong number')\n",
        "else:\n",
        "  print(f'{num} is not Amstrong number')"
      ],
      "metadata": {
        "colab": {
          "base_uri": "https://localhost:8080/"
        },
        "id": "XDe4n7JlyXHh",
        "outputId": "37bc5f65-bb05-42f0-fdb0-0a160833cb37"
      },
      "execution_count": null,
      "outputs": [
        {
          "output_type": "stream",
          "name": "stdout",
          "text": [
            "Enter the number: 153\n",
            "153 is Amstrong number\n"
          ]
        }
      ]
    },
    {
      "cell_type": "markdown",
      "source": [
        "**20.Write a Python Program to Find Armstrong Number in an Interval.**"
      ],
      "metadata": {
        "id": "3IUqur-ryj83"
      }
    },
    {
      "cell_type": "code",
      "source": [
        "lower=int(input('Enter the lower interval: '))\n",
        "upper=int(input('Enter the upper interval: '))\n",
        "for i in range(lower,upper+1):\n",
        "  num_str=str(i)\n",
        "  num_len=len(num_str)\n",
        "  sum_of_dig=0\n",
        "  temp=i\n",
        "  while temp>0:\n",
        "    digits=temp%10\n",
        "    sum_of_dig+=digits**num_len\n",
        "    temp//=10\n",
        "  if sum_of_dig==i:\n",
        "    print(i)\n"
      ],
      "metadata": {
        "colab": {
          "base_uri": "https://localhost:8080/"
        },
        "id": "9Shje3h7yoWh",
        "outputId": "c488552a-29fc-4075-b950-6874e54c6d8d"
      },
      "execution_count": null,
      "outputs": [
        {
          "output_type": "stream",
          "name": "stdout",
          "text": [
            "Enter the lower interval: 10\n",
            "Enter the upper interval: 1000\n",
            "153\n",
            "370\n",
            "371\n",
            "407\n"
          ]
        }
      ]
    },
    {
      "cell_type": "markdown",
      "source": [
        "**21.Write a Python Program to Find the Sum of Natural Numbers.**"
      ],
      "metadata": {
        "id": "jliZEpA205kO"
      }
    },
    {
      "cell_type": "code",
      "source": [
        "lim=int(input('Enter the limit: '))\n",
        "sum_of_dig=0\n",
        "for i in range(1,lim+1):\n",
        "  sum_of_dig+=i\n",
        "print(f'Sum of limit {lim} is {sum_of_dig}')"
      ],
      "metadata": {
        "colab": {
          "base_uri": "https://localhost:8080/"
        },
        "id": "fDzJ48Gi07N3",
        "outputId": "277fe02f-36c5-4a32-d41e-f4197034478d"
      },
      "execution_count": null,
      "outputs": [
        {
          "output_type": "stream",
          "name": "stdout",
          "text": [
            "Enter the limit: 10\n",
            "Sum of limit 10 is 55\n"
          ]
        }
      ]
    },
    {
      "cell_type": "markdown",
      "source": [
        "**22.Write a Python Program to Find LCM.**"
      ],
      "metadata": {
        "id": "fnkAdNBl3ljZ"
      }
    },
    {
      "cell_type": "code",
      "source": [
        "x=int(input('Enter x: '))\n",
        "y=int(input('Enter y: '))\n",
        "if x>y:\n",
        "  greater=x\n",
        "else:\n",
        "  greater=y\n",
        "while(True):\n",
        "  if(greater%x==0) and (greater%y==0):\n",
        "    lcm=greater\n",
        "    break\n",
        "  greater+=1\n",
        "print(lcm)"
      ],
      "metadata": {
        "colab": {
          "base_uri": "https://localhost:8080/"
        },
        "id": "MRhcJf6A3o2L",
        "outputId": "f05e2044-96de-4fc8-aba1-bdf9d3a920d8"
      },
      "execution_count": null,
      "outputs": [
        {
          "output_type": "stream",
          "name": "stdout",
          "text": [
            "Enter x: 54\n",
            "Enter y: 24\n",
            "216\n"
          ]
        }
      ]
    },
    {
      "cell_type": "markdown",
      "source": [
        "**23.Write a Python Program to Find HCF.**"
      ],
      "metadata": {
        "id": "Dc67k3EC8oAv"
      }
    },
    {
      "cell_type": "code",
      "source": [
        "x=int(input('Enter the x: '))\n",
        "y=int(input('Enter the y: '))\n",
        "if x>y:\n",
        "  smaller=y\n",
        "else:\n",
        "  smaller=x\n",
        "for i in range(1,smaller+1):\n",
        "  if(x%i==0) and (y%i==0):\n",
        "    hcf=i\n",
        "print(hcf)"
      ],
      "metadata": {
        "colab": {
          "base_uri": "https://localhost:8080/"
        },
        "id": "LRIgl7eu9mDO",
        "outputId": "5e7dc93c-e3fd-42a9-d65e-9afeb89c758e"
      },
      "execution_count": null,
      "outputs": [
        {
          "output_type": "stream",
          "name": "stdout",
          "text": [
            "Enter the x: 54\n",
            "Enter the y: 24\n",
            "6\n"
          ]
        }
      ]
    },
    {
      "cell_type": "markdown",
      "source": [
        "**24.Write a Python Program to Convert Decimal to Binary, Octal and Hexadecimal.**"
      ],
      "metadata": {
        "id": "0gzMP6q7S-B6"
      }
    },
    {
      "cell_type": "code",
      "source": [
        "num=int(input('Enter the number: '))\n",
        "print(f'{bin(num)} Binary of the number')\n",
        "print(f'{oct(num)} Octal of the number')\n",
        "print(f'{hex(num)} Hexadecimal of the number')"
      ],
      "metadata": {
        "colab": {
          "base_uri": "https://localhost:8080/"
        },
        "id": "gBsyjjwVTIXt",
        "outputId": "cfe68ddb-4d6b-4a9c-fdf2-0357e6b5214a"
      },
      "execution_count": null,
      "outputs": [
        {
          "output_type": "stream",
          "name": "stdout",
          "text": [
            "Enter the number: 27\n",
            "0b11011 Binary of the number\n",
            "0o33 Octal of the number\n",
            "0x1b Hexadecimal of the number\n"
          ]
        }
      ]
    },
    {
      "cell_type": "markdown",
      "source": [
        "**25.Write a Python Program To Find ASCII value of a character.**"
      ],
      "metadata": {
        "id": "6jk6QOEhV4JD"
      }
    },
    {
      "cell_type": "code",
      "source": [
        "char=str(input('Enter the character: '))\n",
        "print(f'The ASCII value of {char} is {ord(char)}')"
      ],
      "metadata": {
        "colab": {
          "base_uri": "https://localhost:8080/"
        },
        "id": "vOA62xSzV5r-",
        "outputId": "af76fff9-e126-48ba-cf70-6082124639ce"
      },
      "execution_count": null,
      "outputs": [
        {
          "output_type": "stream",
          "name": "stdout",
          "text": [
            "Enter the character: a\n",
            "The ASCII value of a is 97\n"
          ]
        }
      ]
    },
    {
      "cell_type": "markdown",
      "source": [
        "**26.Write a Python Program to Make a Simple Calculator with 4 basic mathematical\n",
        "operations.**"
      ],
      "metadata": {
        "id": "W6kdxUA1WRl7"
      }
    },
    {
      "cell_type": "code",
      "source": [
        "print('1 for addition')\n",
        "print('2 for subrtaction')\n",
        "print('3 for multiplication')\n",
        "print('4 for division')\n",
        "op=int(input('Enter the operation to be performed: '))\n",
        "num1=float(input('Enter 1st number: '))\n",
        "num2=float(input('Enter 2nd number: '))\n",
        "if op==1:\n",
        "  print(f'Addition of {num1} and {num2} is {num1+num2}')\n",
        "elif op==2:\n",
        "  if num1>num2:\n",
        "    print(f'Subtraction of {num1} and {num2} is {num1-num2}')\n",
        "  else:\n",
        "    print(f'Subtraction of {num2} and {num1} is {num2-num1}')\n",
        "elif op==3:\n",
        "  print(f'Multiplication of {num1} and {num2} is {num1*num2}')\n",
        "elif op==4:\n",
        "  if num1>num2:\n",
        "    print(f'Division os {num1} and {num2} is {num1/num2}')\n",
        "  else:\n",
        "    print(f'Divison os {num2} and {num1} is {num2/num1}')\n",
        "else:\n",
        "  print('Invalid Input')"
      ],
      "metadata": {
        "id": "ZOXhfHanfZWa",
        "colab": {
          "base_uri": "https://localhost:8080/"
        },
        "outputId": "8ad4140d-33c1-4262-bf0f-ffb97dea6ff6"
      },
      "execution_count": null,
      "outputs": [
        {
          "output_type": "stream",
          "name": "stdout",
          "text": [
            "1 for addition\n",
            "2 for subrtaction\n",
            "3 for multiplication\n",
            "4 for division\n",
            "Enter the operation to be performed: 1\n",
            "Enter 1st number: 2\n",
            "Enter 2nd number: 2\n",
            "Addition of 2.0 and 2.0 is 4.0\n"
          ]
        }
      ]
    },
    {
      "cell_type": "markdown",
      "source": [
        "**27.Write a Python Program to Display Fibonacci Sequence Using Recursion.**"
      ],
      "metadata": {
        "id": "tT3rxRjTZq9q"
      }
    },
    {
      "cell_type": "code",
      "source": [
        "def rec(n):\n",
        "  f=(n-1)+(n-2)\n",
        "  return f\n",
        "num=int(input('Enter the number: '))\n",
        "\n",
        "for i in range(num):\n",
        "  print(rec(i))"
      ],
      "metadata": {
        "id": "5vYGqv8dr5QK"
      },
      "execution_count": null,
      "outputs": []
    },
    {
      "cell_type": "markdown",
      "source": [
        "**28.Write a Python Program to calculate your Body Mass Index.**"
      ],
      "metadata": {
        "id": "xgJmZa32ti_5"
      }
    },
    {
      "cell_type": "code",
      "source": [
        "weight=int(input('Enter the weight: '))\n",
        "height=float(input('Enter the height in meters: '))\n",
        "BMI=weight/height**2\n",
        "print(f'Body mass index {BMI}')"
      ],
      "metadata": {
        "colab": {
          "base_uri": "https://localhost:8080/"
        },
        "id": "jmSSSmxWtrSD",
        "outputId": "860caa0e-e8f8-42f6-c3e3-aa987ace0da3"
      },
      "execution_count": null,
      "outputs": [
        {
          "output_type": "stream",
          "name": "stdout",
          "text": [
            "Enter the weight: 70\n",
            "Enter the height in meters: 1.8\n",
            "Body mass index 21.604938271604937\n"
          ]
        }
      ]
    },
    {
      "cell_type": "markdown",
      "source": [
        "**29.Write a Python Program to calculate the natural logarithm of any number.**"
      ],
      "metadata": {
        "id": "6QWIXaPRubM4"
      }
    },
    {
      "cell_type": "code",
      "source": [
        "import math\n",
        "num=int(input('Enter the number: '))\n",
        "print(f'Logarithm of {num} is {math.log(num)}')"
      ],
      "metadata": {
        "colab": {
          "base_uri": "https://localhost:8080/"
        },
        "id": "n-81wDCiu_Wo",
        "outputId": "45c52ba9-52eb-44c2-dd30-706d3894b55f"
      },
      "execution_count": null,
      "outputs": [
        {
          "output_type": "stream",
          "name": "stdout",
          "text": [
            "Enter the number: 2\n",
            "Logarithm of 2 is 0.6931471805599453\n"
          ]
        }
      ]
    },
    {
      "cell_type": "markdown",
      "source": [
        "**30.Write a Python Program for cube sum of first n natural numbers?**"
      ],
      "metadata": {
        "id": "kE3jaVa3vhBF"
      }
    },
    {
      "cell_type": "code",
      "source": [
        "num=int(input('Enter the number: '))\n",
        "total=sum([i**3 for i in range(1,num+1)])\n",
        "print(f'The sum of first {num} natural numbers are {total}')"
      ],
      "metadata": {
        "colab": {
          "base_uri": "https://localhost:8080/"
        },
        "id": "86Ydz19Vvkf1",
        "outputId": "dfb243fa-5916-4b63-ce14-8ccd5732a621"
      },
      "execution_count": null,
      "outputs": [
        {
          "output_type": "stream",
          "name": "stdout",
          "text": [
            "Enter the number: 7\n",
            "The sum of first 7 natural numbers are 784\n"
          ]
        }
      ]
    },
    {
      "cell_type": "markdown",
      "source": [
        "**31.Write a Python Program to find sum of array.**"
      ],
      "metadata": {
        "id": "Vy-VmRBJwUhA"
      }
    },
    {
      "cell_type": "code",
      "source": [
        "arr=[1,2,3,4,5]\n",
        "sum=0\n",
        "for i in arr:\n",
        "  sum+=i\n",
        "print(sum)"
      ],
      "metadata": {
        "colab": {
          "base_uri": "https://localhost:8080/"
        },
        "id": "o5yNftTZ6CkS",
        "outputId": "19adeb11-75e7-4923-f287-af7d32a8f8e6"
      },
      "execution_count": null,
      "outputs": [
        {
          "output_type": "stream",
          "name": "stdout",
          "text": [
            "15\n"
          ]
        }
      ]
    },
    {
      "cell_type": "markdown",
      "source": [
        "**32.Write a Python Program to find largest element in an array.**\n",
        "\n"
      ],
      "metadata": {
        "id": "xx-P5yqm6TZ1"
      }
    },
    {
      "cell_type": "code",
      "source": [
        "arr=[1,2,5,3,4]\n",
        "largest=0\n",
        "for i in arr:\n",
        "  if i>largest:\n",
        "    largest=i\n",
        "print(largest)"
      ],
      "metadata": {
        "colab": {
          "base_uri": "https://localhost:8080/"
        },
        "id": "ulrPXFXy6Wkk",
        "outputId": "b552a328-8555-4c9d-edf0-0594ea4934dc"
      },
      "execution_count": null,
      "outputs": [
        {
          "output_type": "stream",
          "name": "stdout",
          "text": [
            "5\n"
          ]
        }
      ]
    },
    {
      "cell_type": "markdown",
      "source": [
        "**33.Write a Python Program to Split the array and add the first part to the end?**"
      ],
      "metadata": {
        "id": "V8K0vZMn64TH"
      }
    },
    {
      "cell_type": "code",
      "source": [
        "arr=[1,2,3,4,5,6]\n",
        "k=3\n",
        "first_part=arr[:k]\n",
        "second_part=arr[k:]\n",
        "print(arr)\n",
        "print(f'After Spliting and adding {second_part + first_part}')"
      ],
      "metadata": {
        "colab": {
          "base_uri": "https://localhost:8080/"
        },
        "id": "lXkU7TF57GNX",
        "outputId": "9cb562c3-b173-451d-a639-ad1417b3b2f1"
      },
      "execution_count": null,
      "outputs": [
        {
          "output_type": "stream",
          "name": "stdout",
          "text": [
            "[1, 2, 3, 4, 5, 6]\n",
            "After Spliting and adding [4, 5, 6, 1, 2, 3]\n"
          ]
        }
      ]
    },
    {
      "cell_type": "markdown",
      "source": [
        "**34.Write a Python Program to Sort Words in Alphabetic Order.**"
      ],
      "metadata": {
        "id": "c714xqjq7oXP"
      }
    },
    {
      "cell_type": "code",
      "source": [
        "my_str=input('Enter the names: ')\n",
        "words=[word.capitalize() for word in my_str.split()]\n",
        "words.sort()\n",
        "for word in words:\n",
        "  print(word)"
      ],
      "metadata": {
        "colab": {
          "base_uri": "https://localhost:8080/"
        },
        "id": "_j2Swyw88Nv4",
        "outputId": "d1536a97-5805-4c99-be3b-ea4d9430e126"
      },
      "execution_count": null,
      "outputs": [
        {
          "output_type": "stream",
          "name": "stdout",
          "text": [
            "Enter the names: shree anusha bhavana lizzy aisha smitha\n",
            "Aisha\n",
            "Anusha\n",
            "Bhavana\n",
            "Lizzy\n",
            "Shree\n",
            "Smitha\n"
          ]
        }
      ]
    },
    {
      "cell_type": "markdown",
      "source": [
        "**35.Write a Python Program to Remove Punctuation From a String.**"
      ],
      "metadata": {
        "id": "DVTQcrP099-s"
      }
    },
    {
      "cell_type": "code",
      "source": [
        "punctuation='''!()-[]{};:'\"\\,<>./?@#$%^&*_~'''\n",
        "my_str=input('Enter the string: ')\n",
        "no_pun=''\n",
        "for i in my_str:\n",
        "  if i not in punctuation:\n",
        "    no_pun=no_pun+i\n",
        "print(no_pun)"
      ],
      "metadata": {
        "colab": {
          "base_uri": "https://localhost:8080/"
        },
        "id": "L4Cax7ZC-CTX",
        "outputId": "c8be4c6d-7d20-463f-fdd1-996ea7bba14e"
      },
      "execution_count": null,
      "outputs": [
        {
          "output_type": "stream",
          "name": "stdout",
          "text": [
            "Enter the string: ji%^&th(*&en\n",
            "jithen\n"
          ]
        }
      ]
    },
    {
      "cell_type": "markdown",
      "source": [
        "**36.Write a Python program to determine whether the given number is a Harshad\n",
        "Number**"
      ],
      "metadata": {
        "id": "Bgt9bKBoJefi"
      }
    },
    {
      "cell_type": "code",
      "source": [
        "def is_harshad_number(number):\n",
        "    digit_sum = sum(int(digit) for digit in str(number))\n",
        "\n",
        "    if number % digit_sum == 0:\n",
        "        return True\n",
        "    else:\n",
        "        return False\n",
        "\n",
        "num = int(input(\"Enter a number: \"))\n",
        "if is_harshad_number(num):\n",
        "    print(f\"{num} is a Harshad Number.\")\n",
        "else:\n",
        "    print(f\"{num} is NOT a Harshad Number.\")\n"
      ],
      "metadata": {
        "id": "nLwe9zn3JmaU"
      },
      "execution_count": null,
      "outputs": []
    },
    {
      "cell_type": "markdown",
      "source": [
        "**37.Write a Python program to print all pronic numbers between 1 and 100.**"
      ],
      "metadata": {
        "id": "CCA_XsiyJss-"
      }
    },
    {
      "cell_type": "code",
      "source": [
        "for i in range(1,101):\n",
        "  print(f'{i*(i+1)}')"
      ],
      "metadata": {
        "colab": {
          "base_uri": "https://localhost:8080/"
        },
        "id": "Yi9DlQmTJ4Ei",
        "outputId": "98aa4dff-66b6-4219-d2c3-8f25dfd3e760"
      },
      "execution_count": null,
      "outputs": [
        {
          "output_type": "stream",
          "name": "stdout",
          "text": [
            "2\n",
            "6\n",
            "12\n",
            "20\n",
            "30\n",
            "42\n",
            "56\n",
            "72\n",
            "90\n",
            "110\n",
            "132\n",
            "156\n",
            "182\n",
            "210\n",
            "240\n",
            "272\n",
            "306\n",
            "342\n",
            "380\n",
            "420\n",
            "462\n",
            "506\n",
            "552\n",
            "600\n",
            "650\n",
            "702\n",
            "756\n",
            "812\n",
            "870\n",
            "930\n",
            "992\n",
            "1056\n",
            "1122\n",
            "1190\n",
            "1260\n",
            "1332\n",
            "1406\n",
            "1482\n",
            "1560\n",
            "1640\n",
            "1722\n",
            "1806\n",
            "1892\n",
            "1980\n",
            "2070\n",
            "2162\n",
            "2256\n",
            "2352\n",
            "2450\n",
            "2550\n",
            "2652\n",
            "2756\n",
            "2862\n",
            "2970\n",
            "3080\n",
            "3192\n",
            "3306\n",
            "3422\n",
            "3540\n",
            "3660\n",
            "3782\n",
            "3906\n",
            "4032\n",
            "4160\n",
            "4290\n",
            "4422\n",
            "4556\n",
            "4692\n",
            "4830\n",
            "4970\n",
            "5112\n",
            "5256\n",
            "5402\n",
            "5550\n",
            "5700\n",
            "5852\n",
            "6006\n",
            "6162\n",
            "6320\n",
            "6480\n",
            "6642\n",
            "6806\n",
            "6972\n",
            "7140\n",
            "7310\n",
            "7482\n",
            "7656\n",
            "7832\n",
            "8010\n",
            "8190\n",
            "8372\n",
            "8556\n",
            "8742\n",
            "8930\n",
            "9120\n",
            "9312\n",
            "9506\n",
            "9702\n",
            "9900\n",
            "10100\n"
          ]
        }
      ]
    },
    {
      "cell_type": "markdown",
      "source": [
        "**38.Write a program to find the sum of element in list.**"
      ],
      "metadata": {
        "id": "ph04TZSDKryB"
      }
    },
    {
      "cell_type": "code",
      "source": [
        "l=[1,2,3,4,5]\n",
        "sum=0\n",
        "for i in l:\n",
        "  sum=sum+i\n",
        "print(sum)"
      ],
      "metadata": {
        "colab": {
          "base_uri": "https://localhost:8080/"
        },
        "id": "rXmxNVjSK0cb",
        "outputId": "513dc772-7179-4062-eadb-d4ac68bd2812"
      },
      "execution_count": null,
      "outputs": [
        {
          "output_type": "stream",
          "name": "stdout",
          "text": [
            "15\n"
          ]
        }
      ]
    },
    {
      "cell_type": "markdown",
      "source": [
        "**39.Write a Python program to Multiply all numbers in the list.**"
      ],
      "metadata": {
        "id": "WXdS2kipK9BO"
      }
    },
    {
      "cell_type": "code",
      "source": [
        "l=[10,20,30,40,50]\n",
        "pro=1\n",
        "for i in l:\n",
        "  pro*=i\n",
        "print(pro)"
      ],
      "metadata": {
        "colab": {
          "base_uri": "https://localhost:8080/"
        },
        "id": "V1ZYj0NULB4c",
        "outputId": "ba8f66e7-7853-426f-e607-bad76e4732fd"
      },
      "execution_count": null,
      "outputs": [
        {
          "output_type": "stream",
          "name": "stdout",
          "text": [
            "12000000\n"
          ]
        }
      ]
    },
    {
      "cell_type": "markdown",
      "source": [
        "**40.Write a Python program to find smallest number in a list.**"
      ],
      "metadata": {
        "id": "Inw8071uLLEc"
      }
    },
    {
      "cell_type": "code",
      "source": [
        "l=[3,2,1,5,6,4,0]\n",
        "k=l[0]\n",
        "for i in l:\n",
        "  if i<k:\n",
        "    smallest=i\n",
        "print(smallest)"
      ],
      "metadata": {
        "colab": {
          "base_uri": "https://localhost:8080/"
        },
        "id": "EaYu5cwPLPQK",
        "outputId": "ff06460f-36ad-4428-cdc8-68e6b345063f"
      },
      "execution_count": null,
      "outputs": [
        {
          "output_type": "stream",
          "name": "stdout",
          "text": [
            "0\n"
          ]
        }
      ]
    },
    {
      "cell_type": "markdown",
      "source": [
        "**41.Write a Python program to find largest number in a list.**"
      ],
      "metadata": {
        "id": "23U7XKzsMD8q"
      }
    },
    {
      "cell_type": "code",
      "source": [
        "l=[1,3,2,4,5]\n",
        "k=0\n",
        "for i in l:\n",
        "  if i>k:\n",
        "    largest=i\n",
        "print(largest)"
      ],
      "metadata": {
        "colab": {
          "base_uri": "https://localhost:8080/"
        },
        "id": "0yE8jU_j0HEo",
        "outputId": "7a6a5e31-eb65-455f-fb1b-a9bd8e4e0697"
      },
      "execution_count": null,
      "outputs": [
        {
          "output_type": "stream",
          "name": "stdout",
          "text": [
            "5\n"
          ]
        }
      ]
    },
    {
      "cell_type": "markdown",
      "source": [
        "**42.Write a Python program to find second largest number in a list.**"
      ],
      "metadata": {
        "id": "EoWUD5WTf2b2"
      }
    },
    {
      "cell_type": "code",
      "source": [
        "l=[1,2,3,4,5]\n",
        "l.sort(reverse=True)\n",
        "print(l[1])\n"
      ],
      "metadata": {
        "colab": {
          "base_uri": "https://localhost:8080/"
        },
        "id": "xQp23Y5rf54n",
        "outputId": "ead8ac26-11d3-42d2-8903-4a409a66a5a5"
      },
      "execution_count": null,
      "outputs": [
        {
          "output_type": "stream",
          "name": "stdout",
          "text": [
            "4\n"
          ]
        }
      ]
    },
    {
      "cell_type": "markdown",
      "source": [
        "**43.Write a Python program to find N largest elements from a list.**"
      ],
      "metadata": {
        "id": "PHwc5NNlghDY"
      }
    },
    {
      "cell_type": "code",
      "source": [
        "def largest(l,n):\n",
        "  l.sort(reverse=True)\n",
        "  print(l[n])\n",
        "\n",
        "l1=[1,2,3,4,5,6]\n",
        "obj=largest(l1,2)"
      ],
      "metadata": {
        "colab": {
          "base_uri": "https://localhost:8080/"
        },
        "id": "1E0FANe4gmPu",
        "outputId": "69915e57-32e9-4122-80c0-ffa08fb6a3a9"
      },
      "execution_count": null,
      "outputs": [
        {
          "output_type": "stream",
          "name": "stdout",
          "text": [
            "4\n"
          ]
        }
      ]
    },
    {
      "cell_type": "markdown",
      "source": [
        "**44.Write a Python program to print even numbers in a list.**"
      ],
      "metadata": {
        "id": "F432_SjOhFTg"
      }
    },
    {
      "cell_type": "code",
      "source": [
        "l=[1,2,3,4,5,6,7,8,9,10]\n",
        "for i in l:\n",
        "  if i%2==0:\n",
        "    print(i)"
      ],
      "metadata": {
        "colab": {
          "base_uri": "https://localhost:8080/"
        },
        "id": "-0_0qdRshITR",
        "outputId": "55d33287-98ad-446f-c288-4ab1a504cbfb"
      },
      "execution_count": null,
      "outputs": [
        {
          "output_type": "stream",
          "name": "stdout",
          "text": [
            "2\n",
            "4\n",
            "6\n",
            "8\n",
            "10\n"
          ]
        }
      ]
    },
    {
      "cell_type": "markdown",
      "source": [
        "**45.Write a Python program to print odd numbers in a List.**"
      ],
      "metadata": {
        "id": "evJDTundhepm"
      }
    },
    {
      "cell_type": "code",
      "source": [
        "l=[1,2,3,4,5,6,7,8,9,10]\n",
        "for i in l:\n",
        "  if i%2!=0:\n",
        "    print(i)"
      ],
      "metadata": {
        "colab": {
          "base_uri": "https://localhost:8080/"
        },
        "id": "ASJN00dHhhxm",
        "outputId": "9903984e-618b-49fa-b7fc-0450a3daecac"
      },
      "execution_count": null,
      "outputs": [
        {
          "output_type": "stream",
          "name": "stdout",
          "text": [
            "1\n",
            "3\n",
            "5\n",
            "7\n",
            "9\n"
          ]
        }
      ]
    },
    {
      "cell_type": "markdown",
      "source": [
        "**46.Write a Python program to Remove empty List from List.**"
      ],
      "metadata": {
        "id": "MtNUu5cIhptm"
      }
    },
    {
      "cell_type": "code",
      "source": [
        "list_of_lists = [[1, 2, 3], [], [4, 5], [], [6, 7, 8], []]\n",
        "l=[]\n",
        "for i in list_of_lists:\n",
        "  if i!=[]:\n",
        "    l.append(i)\n",
        "print(l)"
      ],
      "metadata": {
        "colab": {
          "base_uri": "https://localhost:8080/"
        },
        "id": "FnHo0YiRhtMG",
        "outputId": "d5c64820-0244-4a5c-b0c8-29ee5389d394"
      },
      "execution_count": null,
      "outputs": [
        {
          "output_type": "stream",
          "name": "stdout",
          "text": [
            "[[1, 2, 3], [4, 5], [6, 7, 8]]\n"
          ]
        }
      ]
    },
    {
      "cell_type": "markdown",
      "source": [
        "**47.Write a Python program to Cloning or Copying a list.**"
      ],
      "metadata": {
        "id": "DZ0SA8gDiGib"
      }
    },
    {
      "cell_type": "code",
      "source": [
        "original=[1,2,3,4,5]\n",
        "copy=original.copy()\n",
        "print(copy)"
      ],
      "metadata": {
        "colab": {
          "base_uri": "https://localhost:8080/"
        },
        "id": "sT9xd0BsiKoX",
        "outputId": "062699b8-84ff-4554-8437-f6d733ad7ba1"
      },
      "execution_count": null,
      "outputs": [
        {
          "output_type": "stream",
          "name": "stdout",
          "text": [
            "[1, 2, 3, 4, 5]\n"
          ]
        }
      ]
    },
    {
      "cell_type": "markdown",
      "source": [
        "**48.Write a Python program to Count occurrences of an element in a list.**"
      ],
      "metadata": {
        "id": "hxicinJpiUbY"
      }
    },
    {
      "cell_type": "code",
      "source": [
        "def occ(l,n):\n",
        "  return l.count(n)\n",
        "l=[1,2,3,2,4,4,5,1,2,3,5]\n",
        "print(occ(l,2))"
      ],
      "metadata": {
        "colab": {
          "base_uri": "https://localhost:8080/"
        },
        "id": "ygfvyFJ-iX19",
        "outputId": "7360a3a7-1fa6-41c6-b5c7-4bfdcc44eb39"
      },
      "execution_count": null,
      "outputs": [
        {
          "output_type": "stream",
          "name": "stdout",
          "text": [
            "3\n"
          ]
        }
      ]
    },
    {
      "cell_type": "markdown",
      "source": [
        "**49.Write a Python program to find words which are greater than given length k.**"
      ],
      "metadata": {
        "id": "Zr95MTqmi50R"
      }
    },
    {
      "cell_type": "code",
      "source": [
        "word=input('Enter the string: ')\n",
        "k=5\n",
        "z=word.split()\n",
        "for i in z:\n",
        "  if len(i)>k:\n",
        "    print(i)"
      ],
      "metadata": {
        "colab": {
          "base_uri": "https://localhost:8080/"
        },
        "id": "-POm_LsOi-gr",
        "outputId": "174c940a-b72b-4ef0-bfad-0f5a10351b41"
      },
      "execution_count": null,
      "outputs": [
        {
          "output_type": "stream",
          "name": "stdout",
          "text": [
            "Enter the string: apple banana cherry jit\n",
            "banana\n",
            "cherry\n"
          ]
        }
      ]
    },
    {
      "cell_type": "markdown",
      "source": [
        "**50.Write a Python program for removing i character from a string.**"
      ],
      "metadata": {
        "id": "65po4_w7j2wL"
      }
    },
    {
      "cell_type": "code",
      "source": [
        "def rem(s,i):\n",
        "  res=s[:i]+s[i+1:]\n",
        "  print(res)\n",
        "string='jithen'\n",
        "obj=rem(string,3)"
      ],
      "metadata": {
        "colab": {
          "base_uri": "https://localhost:8080/"
        },
        "id": "w5EelTSrj-Bn",
        "outputId": "d97affe3-01ff-4da7-8f26-cef85338112c"
      },
      "execution_count": null,
      "outputs": [
        {
          "output_type": "stream",
          "name": "stdout",
          "text": [
            "jiten\n"
          ]
        }
      ]
    },
    {
      "cell_type": "markdown",
      "source": [
        "**51.Write a Python program to split and join a string.**"
      ],
      "metadata": {
        "id": "7nnHy2BQle7y"
      }
    },
    {
      "cell_type": "code",
      "source": [
        "a='program to split the string and join'\n",
        "x=a.split()\n",
        "print(f'After splitting :=> {x}')\n",
        "sep=' '\n",
        "b=sep.join(x)\n",
        "print(f'After joining :=> {b}')"
      ],
      "metadata": {
        "colab": {
          "base_uri": "https://localhost:8080/"
        },
        "id": "auYoe_QClih-",
        "outputId": "ba2066b6-cf44-43d9-b567-5094393876d7"
      },
      "execution_count": null,
      "outputs": [
        {
          "output_type": "stream",
          "name": "stdout",
          "text": [
            "After splitting :=> ['program', 'to', 'split', 'the', 'string', 'and', 'join']\n",
            "After joining :=> program to split the string and join\n"
          ]
        }
      ]
    },
    {
      "cell_type": "markdown",
      "source": [
        "**52.Write a Python program to check if a given string is binary string or not.**"
      ],
      "metadata": {
        "id": "Mpiq2Ut-mlmg"
      }
    },
    {
      "cell_type": "code",
      "source": [
        "s=input('Enter the binary string: ')\n",
        "for i in s:\n",
        "  if i not in '01':\n",
        "    print('Invalid')\n",
        "  else:\n",
        "    print(i)"
      ],
      "metadata": {
        "colab": {
          "base_uri": "https://localhost:8080/"
        },
        "id": "qsR4EiVpmu15",
        "outputId": "940973e0-cb2b-4d17-e3a5-07e3f1721798"
      },
      "execution_count": null,
      "outputs": [
        {
          "output_type": "stream",
          "name": "stdout",
          "text": [
            "Enter the binary string: 1011\n",
            "1\n",
            "0\n",
            "1\n",
            "1\n"
          ]
        }
      ]
    },
    {
      "cell_type": "markdown",
      "source": [
        "**53.Write a Python program to find uncommon words from two Strings.**"
      ],
      "metadata": {
        "id": "b_omg_dhrguK"
      }
    },
    {
      "cell_type": "code",
      "source": [
        "s1='This is first string'\n",
        "s2='This is second string'\n",
        "s1=set(s1.split())\n",
        "s2=set(s2.split())\n",
        "word=s1.symmetric_difference(s2)\n",
        "print(word)"
      ],
      "metadata": {
        "colab": {
          "base_uri": "https://localhost:8080/"
        },
        "id": "FVNR5flkrkt4",
        "outputId": "16015838-8dec-4657-b49d-af88e34e88ca"
      },
      "execution_count": null,
      "outputs": [
        {
          "output_type": "stream",
          "name": "stdout",
          "text": [
            "{'second', 'first'}\n"
          ]
        }
      ]
    },
    {
      "cell_type": "markdown",
      "source": [
        "**54.Write a Python program to find all duplicate characters in string.**"
      ],
      "metadata": {
        "id": "qZqV3GrzsZve"
      }
    },
    {
      "cell_type": "code",
      "source": [
        "a='jithen shekar'\n",
        "char_count={}\n",
        "for i in a:\n",
        "  if i in char_count:\n",
        "    char_count[i]+=1\n",
        "  else:\n",
        "    char_count[i]=1\n",
        "for i,count in char_count.items():\n",
        "  if count>1:\n",
        "    print(i)\n"
      ],
      "metadata": {
        "id": "8jgvsXtysdqP",
        "colab": {
          "base_uri": "https://localhost:8080/"
        },
        "outputId": "e63649b7-f77b-4dc3-acb5-d39d98ec52e9"
      },
      "execution_count": null,
      "outputs": [
        {
          "output_type": "stream",
          "name": "stdout",
          "text": [
            "h\n",
            "e\n"
          ]
        }
      ]
    },
    {
      "cell_type": "markdown",
      "source": [
        "**55.Write a Python Program to check if a string contains any special character.**"
      ],
      "metadata": {
        "id": "iCyWKM5EQFq0"
      }
    },
    {
      "cell_type": "code",
      "source": [
        "special_char='!@#$%^&*()'\n",
        "a='Hello world!'\n",
        "if i in special_char:\n",
        "    print('String contain special characters')\n",
        "else:\n",
        "    print('String does not contain special characters')"
      ],
      "metadata": {
        "colab": {
          "base_uri": "https://localhost:8080/"
        },
        "id": "jeMPMF11QMfz",
        "outputId": "6cd8a333-869d-4504-ba44-f79192a4c5b0"
      },
      "execution_count": null,
      "outputs": [
        {
          "output_type": "stream",
          "name": "stdout",
          "text": [
            "String contain special characters\n"
          ]
        }
      ]
    },
    {
      "cell_type": "markdown",
      "source": [
        "**56.Write a Python program to Extract Unique dictionary values.**"
      ],
      "metadata": {
        "id": "L2nagtfpQwRS"
      }
    },
    {
      "cell_type": "code",
      "source": [
        "dict={\n",
        "    'a':10,\n",
        "    'b':20,\n",
        "    'c':30,\n",
        "    'd':10,\n",
        "    'e':20\n",
        "}\n",
        "s=set()\n",
        "for i in dict.values():\n",
        "  s.add(i)\n",
        "print(s)"
      ],
      "metadata": {
        "colab": {
          "base_uri": "https://localhost:8080/"
        },
        "id": "gqybchY9Q7JD",
        "outputId": "da260740-7b1a-4ccc-be35-704ceb8f9956"
      },
      "execution_count": null,
      "outputs": [
        {
          "output_type": "stream",
          "name": "stdout",
          "text": [
            "{10, 20, 30}\n"
          ]
        }
      ]
    },
    {
      "cell_type": "markdown",
      "source": [
        "**57.Write a Python program to find the sum of all items in a dictionary.**"
      ],
      "metadata": {
        "id": "RYtk5qFFTD9K"
      }
    },
    {
      "cell_type": "code",
      "source": [
        "dict={\n",
        "    'a':10,\n",
        "    'b':20,\n",
        "    'c':30,\n",
        "    'd':10,\n",
        "    'e':20\n",
        "}\n",
        "sum=0\n",
        "for i in dict.values():\n",
        "  sum=sum+i\n",
        "print(sum)\n"
      ],
      "metadata": {
        "colab": {
          "base_uri": "https://localhost:8080/"
        },
        "id": "3-sD1RBcTIfs",
        "outputId": "b9e5743d-bf20-4a88-833f-86f1f3780781"
      },
      "execution_count": null,
      "outputs": [
        {
          "output_type": "stream",
          "name": "stdout",
          "text": [
            "90\n"
          ]
        }
      ]
    },
    {
      "cell_type": "markdown",
      "source": [
        "**58.Write a Python program to Merging two Dictionaries.**"
      ],
      "metadata": {
        "id": "9XtCJGNaTSbo"
      }
    },
    {
      "cell_type": "code",
      "source": [
        "dict1={'a':10,'b':20}\n",
        "dict2={'c':30,'d':40}\n",
        "dict1.update(dict2)\n",
        "print(dict1)"
      ],
      "metadata": {
        "colab": {
          "base_uri": "https://localhost:8080/"
        },
        "id": "u0sQhUbUTWQT",
        "outputId": "9d1a4f49-eb94-4e83-fae2-3c5adcf7e4de"
      },
      "execution_count": null,
      "outputs": [
        {
          "output_type": "stream",
          "name": "stdout",
          "text": [
            "{'a': 10, 'b': 20, 'c': 30, 'd': 40}\n"
          ]
        }
      ]
    },
    {
      "cell_type": "markdown",
      "source": [
        "**59.Write a Python program to convert key-values list to flat dictionary.**"
      ],
      "metadata": {
        "id": "1K3qwEwhTtDD"
      }
    },
    {
      "cell_type": "code",
      "source": [
        "key_value=[('a',1),('b',2)]\n",
        "flat_key={}\n",
        "for key,value in key_value:\n",
        "  flat_key[key]=value\n",
        "print(flat_key)"
      ],
      "metadata": {
        "colab": {
          "base_uri": "https://localhost:8080/"
        },
        "id": "_Kc2E2e8T-h_",
        "outputId": "3dfdd4d3-f3ae-4072-b189-21e679b10007"
      },
      "execution_count": null,
      "outputs": [
        {
          "output_type": "stream",
          "name": "stdout",
          "text": [
            "{'a': 1, 'b': 2}\n"
          ]
        }
      ]
    },
    {
      "cell_type": "markdown",
      "source": [
        "**60.Write a Python program to insertion at the beginning in OrderedDict.**"
      ],
      "metadata": {
        "id": "iOaKYP0DUYkK"
      }
    },
    {
      "cell_type": "code",
      "source": [
        "d1={'b':20,'c':30}\n",
        "d2={'a':10}\n",
        "d2.update(d1)\n",
        "print(d2)"
      ],
      "metadata": {
        "colab": {
          "base_uri": "https://localhost:8080/"
        },
        "id": "Wsr4-q_YUc1D",
        "outputId": "2d23fa6b-0521-4950-f732-31298a50d6c3"
      },
      "execution_count": null,
      "outputs": [
        {
          "output_type": "stream",
          "name": "stdout",
          "text": [
            "{'a': 10, 'b': 20, 'c': 30}\n"
          ]
        }
      ]
    },
    {
      "cell_type": "markdown",
      "source": [
        "**61.Write a Python program to sort Python Dictionaries by Key or Value.**"
      ],
      "metadata": {
        "id": "BbxP0CjcWHTg"
      }
    },
    {
      "cell_type": "code",
      "source": [
        "d={'a':'apple','b':'banana','c':'cat'}\n",
        "for key,value in d.items():\n",
        "  print(f'{key} : {value}')"
      ],
      "metadata": {
        "colab": {
          "base_uri": "https://localhost:8080/"
        },
        "id": "Q4yTvqgyWgaM",
        "outputId": "cc826037-c9ce-4d5e-b02f-408f1840368a"
      },
      "execution_count": null,
      "outputs": [
        {
          "output_type": "stream",
          "name": "stdout",
          "text": [
            "a : apple\n",
            "b : banana\n",
            "c : cat\n"
          ]
        }
      ]
    },
    {
      "cell_type": "markdown",
      "source": [
        "**62.Write a program that calculates and prints the value according to the given formula**\n",
        "**Q = Square root of 2CD/H**\n",
        "**C is 50. H is 30.**\n",
        "**D is the variable whose values should be input to your program in a comma-separated sequence.**\n"
      ],
      "metadata": {
        "id": "5ZuNejwo-iHw"
      }
    },
    {
      "cell_type": "code",
      "source": [
        "import math\n",
        "D=list(input('Enter the values'))\n",
        "C=50\n",
        "H=30\n",
        "l=[]\n",
        "for i in D:\n",
        "  q=math.sqrt(2*C*int(i)/H)\n",
        "  l.append(str(q))\n",
        "print(l)"
      ],
      "metadata": {
        "id": "xIMJmDfgE3jp"
      },
      "execution_count": null,
      "outputs": []
    },
    {
      "cell_type": "markdown",
      "source": [
        "**63.Write a program that accepts a comma separated sequence of words as input and prints the words in a comma-separated sequence after sorting them alphabetically.**"
      ],
      "metadata": {
        "id": "UB8QjzHfE4Tx"
      }
    },
    {
      "cell_type": "code",
      "source": [
        "word='without,hello,bag,world'\n",
        "x=word.split(',')\n",
        "k=sorted(x)\n",
        "g=','.join(k)\n",
        "print(g)"
      ],
      "metadata": {
        "colab": {
          "base_uri": "https://localhost:8080/"
        },
        "id": "MxxW9wMbFKpi",
        "outputId": "8adfa1b0-24a5-45d4-f439-652f8aa6cdfb"
      },
      "execution_count": null,
      "outputs": [
        {
          "output_type": "stream",
          "name": "stdout",
          "text": [
            "bag,hello,without,world\n"
          ]
        }
      ]
    },
    {
      "cell_type": "markdown",
      "source": [
        "**64.Write a program that accepts a sequence of whitespace separated words as input and prints the words after removing all duplicate words and sorting them alphanumerically.**"
      ],
      "metadata": {
        "id": "EaWtYp_DFn7O"
      }
    },
    {
      "cell_type": "code",
      "source": [
        "word='hello world and practice makes perfect and hello world again'\n",
        "a=set(word.split())\n",
        "b=sorted(a)\n",
        "c=','.join(b)\n",
        "print(c)"
      ],
      "metadata": {
        "colab": {
          "base_uri": "https://localhost:8080/"
        },
        "id": "X2MupAVLF5Md",
        "outputId": "4c322112-241c-4d0d-8b02-874393c8cc22"
      },
      "execution_count": null,
      "outputs": [
        {
          "output_type": "stream",
          "name": "stdout",
          "text": [
            "again,and,hello,makes,perfect,practice,world\n"
          ]
        }
      ]
    },
    {
      "cell_type": "markdown",
      "source": [
        "**65.Write a program that accepts a sentence and calculate the number of letters and digits. Suppose the following input is supplied to the program:**"
      ],
      "metadata": {
        "id": "qqjLB2NgGQrK"
      }
    },
    {
      "cell_type": "code",
      "source": [
        "char=input('Enter the letter and digit: ')\n",
        "letter_count=0\n",
        "dig_count=0\n",
        "for i in char:\n",
        "  if i.isalpha():\n",
        "    letter_count+=1\n",
        "  elif i.isdigit():\n",
        "    dig_count+=1\n",
        "print(letter_count)\n",
        "print(dig_count)\n"
      ],
      "metadata": {
        "colab": {
          "base_uri": "https://localhost:8080/"
        },
        "id": "c-RJ4FDQGWEw",
        "outputId": "6b7e3a55-f7c8-43e0-88d8-b6735dbda95e"
      },
      "execution_count": null,
      "outputs": [
        {
          "output_type": "stream",
          "name": "stdout",
          "text": [
            "Enter the letter and digit: Hello world! 123\n",
            "10\n",
            "3\n"
          ]
        }
      ]
    },
    {
      "cell_type": "markdown",
      "source": [
        "**66.Define a class with a generator which can iterate the numbers, which are divisible by 7, between a given range 0 and n.**"
      ],
      "metadata": {
        "id": "QzBlo2KfHZPt"
      }
    },
    {
      "cell_type": "code",
      "source": [
        "def seven(n):\n",
        "  for i in range(n+1):\n",
        "    if i%7==0:\n",
        "      print(i)\n",
        "num=int(input(\"Enter the desired range: \"))\n",
        "obj=seven(num)"
      ],
      "metadata": {
        "colab": {
          "base_uri": "https://localhost:8080/"
        },
        "id": "7LExA-oJH5tE",
        "outputId": "a33006a1-f090-4b7a-9da7-e2ecc887e54c"
      },
      "execution_count": null,
      "outputs": [
        {
          "output_type": "stream",
          "name": "stdout",
          "text": [
            "Enter the desired range: 50\n",
            "0\n",
            "7\n",
            "14\n",
            "21\n",
            "28\n",
            "35\n",
            "42\n",
            "49\n"
          ]
        }
      ]
    },
    {
      "cell_type": "markdown",
      "source": [
        "**67.Define a class Person and its two child classes: Male and Female. All classes have a method \"getGender\" which can print \"Male\" for Male class and \"Female\" for Female class.**"
      ],
      "metadata": {
        "id": "o1n_b5tRIj9W"
      }
    },
    {
      "cell_type": "code",
      "source": [
        "class Person:\n",
        "  def getGender(self):\n",
        "    print('Unknown')\n",
        "class Male:\n",
        "  def getGender(self):\n",
        "    print('Male')\n",
        "class Female:\n",
        "  def getGender(self):\n",
        "    print('Female')\n",
        "person=Person()\n",
        "male=Male()\n",
        "female=Female()\n",
        "male.getGender()"
      ],
      "metadata": {
        "colab": {
          "base_uri": "https://localhost:8080/"
        },
        "id": "CEui_3oPIrss",
        "outputId": "2de64831-40f9-4e7d-8849-990e4f88e2e6"
      },
      "execution_count": null,
      "outputs": [
        {
          "output_type": "stream",
          "name": "stdout",
          "text": [
            "Male\n"
          ]
        }
      ]
    },
    {
      "cell_type": "markdown",
      "source": [
        "**68.Please write a program to compress and decompress the string \"hello world!hello world!hello world!hello world!\".**"
      ],
      "metadata": {
        "id": "Qqryfn3-JTYG"
      }
    },
    {
      "cell_type": "code",
      "source": [
        "import zlib\n",
        "string='\"hello world!hello world!hello world!hello world!'\n",
        "compressed=zlib.compress(string.encode())\n",
        "de_compress=zlib.decompress(compressed).decode()\n",
        "print(f'Compressed : {compressed}')\n",
        "print(f'Decompressed : {de_compress}')"
      ],
      "metadata": {
        "colab": {
          "base_uri": "https://localhost:8080/"
        },
        "id": "WDXxrrItJpiN",
        "outputId": "bedefa40-32a6-4192-99f4-4e0d4a7d225f"
      },
      "execution_count": null,
      "outputs": [
        {
          "output_type": "stream",
          "name": "stdout",
          "text": [
            "Compressed : b'x\\x9cS\\xcaH\\xcd\\xc9\\xc9W(\\xcf/\\xcaIQ$\\x86\\r\\x00\\xc3\\xde\\x12\\x17'\n",
            "Decompressed : \"hello world!hello world!hello world!hello world!\n"
          ]
        }
      ]
    },
    {
      "cell_type": "markdown",
      "source": [
        "**69.Please write a program using generator to print the numbers which can be divisible by 5 and 7 between 0 and n in comma separated form while n is input by console.**"
      ],
      "metadata": {
        "id": "umYC_kN_KLQP"
      }
    },
    {
      "cell_type": "code",
      "source": [
        "res=[]\n",
        "def cal(n):\n",
        "  for i in range(n+1):\n",
        "    if i%5==0 and i%7==0:\n",
        "      res.append(i)\n",
        "num=int(input('Enter desired range: '))\n",
        "obj=cal(num)\n",
        "print(res)"
      ],
      "metadata": {
        "colab": {
          "base_uri": "https://localhost:8080/"
        },
        "id": "tPz29g1oKnFm",
        "outputId": "8d6c2817-9b5e-4512-c7d6-05366315ba2f"
      },
      "execution_count": null,
      "outputs": [
        {
          "output_type": "stream",
          "name": "stdout",
          "text": [
            "Enter desired range: 100\n",
            "[0, 35, 70]\n"
          ]
        }
      ]
    },
    {
      "cell_type": "markdown",
      "source": [
        "**70.Assuming that we have some email addresses in the \"username@companyname.com (mailto:username@companyname.com)\" format, please write program to print the user name of a given email address. Both user names and company names are composed of letters only.**"
      ],
      "metadata": {
        "id": "K4oVFr4RMCaB"
      }
    },
    {
      "cell_type": "code",
      "source": [
        "def mail(email):\n",
        "  parts=email.split('@')\n",
        "  if len(parts)==2:\n",
        "    return parts[0]\n",
        "\n",
        "email='jithen@gmail.com'\n",
        "print(mail(email))\n"
      ],
      "metadata": {
        "colab": {
          "base_uri": "https://localhost:8080/"
        },
        "id": "TQgOWESXMxab",
        "outputId": "77eda731-e620-4f80-fe8c-18df47238c92"
      },
      "execution_count": null,
      "outputs": [
        {
          "output_type": "stream",
          "name": "stdout",
          "text": [
            "jithen\n"
          ]
        }
      ]
    },
    {
      "cell_type": "markdown",
      "source": [
        "**71.Define a class named Shape and its subclass Square. The Square class has an init function which takes a length as argument. Both classes have an area function which can print the area of the shape where Shape's area is 0 by default.**"
      ],
      "metadata": {
        "id": "jOA7qjp5HLZk"
      }
    },
    {
      "cell_type": "code",
      "source": [
        "class Shape:\n",
        "  def __init__(self):\n",
        "    pass\n",
        "  def area(self):\n",
        "    return 0\n",
        "\n",
        "class Square(Shape):\n",
        "  def __init__(self,length):\n",
        "    self.length=length\n",
        "  def area(self):\n",
        "    return self.length**2\n",
        "num=float(input('Enter the number to find length: '))\n",
        "shape=Shape()\n",
        "square=Square(num)\n",
        "print(f'Shape area by default: {shape.area()}')\n",
        "print(f'Area of square: {square.area()}')\n",
        "\n"
      ],
      "metadata": {
        "colab": {
          "base_uri": "https://localhost:8080/"
        },
        "id": "yp5unUl2Hf0k",
        "outputId": "7b11ce15-9257-45c1-a6e2-1a90d154b0e8"
      },
      "execution_count": 4,
      "outputs": [
        {
          "output_type": "stream",
          "name": "stdout",
          "text": [
            "Enter the number to find length: 5\n",
            "Shape area by default: 0\n",
            "Area of square: 25.0\n"
          ]
        }
      ]
    },
    {
      "cell_type": "markdown",
      "source": [
        "**72.Write a function that stutters a word as if someone is struggling to read it. The first two letters are repeated twice with an ellipsis ... and space after each, and then the word is pronounced with a question mark ?.**"
      ],
      "metadata": {
        "id": "HqnsLc0lJs7o"
      }
    },
    {
      "cell_type": "code",
      "source": [
        "def shutter(w):\n",
        "  if len(w)<2:\n",
        "    print('Enter the word which as atleast 5 characters')\n",
        "  else:\n",
        "    print(f'{w[:2]}....{w[:2]}....{w}?')\n",
        "\n",
        "word=input('Enter the word: ')\n",
        "obj=shutter(word)"
      ],
      "metadata": {
        "colab": {
          "base_uri": "https://localhost:8080/"
        },
        "id": "FKQwPvCMJ9L1",
        "outputId": "d824c27c-530b-4418-9db8-eb55a542fcc8"
      },
      "execution_count": 5,
      "outputs": [
        {
          "output_type": "stream",
          "name": "stdout",
          "text": [
            "Enter the word: incredible\n",
            "in....in....incredible?\n"
          ]
        }
      ]
    },
    {
      "cell_type": "markdown",
      "source": [
        "**73.Create a function that takes an angle in radians and returns the corresponding angle in degrees rounded to one decimal place.**"
      ],
      "metadata": {
        "id": "D7bTR8aJKvjO"
      }
    },
    {
      "cell_type": "code",
      "source": [
        "import math\n",
        "def rad(n):\n",
        "  degree=n*(180/math.pi)\n",
        "  print(f'degree : {round(degree,1)}')\n",
        "r=int(input('Enter the Radian: '))\n",
        "obj=rad(r)"
      ],
      "metadata": {
        "colab": {
          "base_uri": "https://localhost:8080/"
        },
        "id": "_hC3vkrGK4OF",
        "outputId": "f2a2b5a9-2fb9-48c2-a133-5e3b29127dbf"
      },
      "execution_count": 8,
      "outputs": [
        {
          "output_type": "stream",
          "name": "stdout",
          "text": [
            "Enter the Radian: 1\n",
            "degree : 57.3\n"
          ]
        }
      ]
    },
    {
      "cell_type": "markdown",
      "source": [
        "**74.In this challenge, establish if a given integer num is a Curzon number. If 1 plus 2 elevated to num is exactly divisible by 1 plus 2 multiplied by num then num is a Curzon number. Given a non-negative integer num, implement function that returns True if num is a Curzon number, or False otherwise.**"
      ],
      "metadata": {
        "id": "I1KtAJBpLhgP"
      }
    },
    {
      "cell_type": "code",
      "source": [
        "def curzon(n):\n",
        "  num=2**n+1\n",
        "  dem=2*n+1\n",
        "  return num%dem==0\n",
        "num=int(input('Enter the number: '))\n",
        "print(curzon(num))"
      ],
      "metadata": {
        "colab": {
          "base_uri": "https://localhost:8080/"
        },
        "id": "NVgYOy7oMDwP",
        "outputId": "0d31a35b-eccb-4ba7-87a3-ac6e585bf0c5"
      },
      "execution_count": 12,
      "outputs": [
        {
          "output_type": "stream",
          "name": "stdout",
          "text": [
            "Enter the number: 5\n",
            "True\n"
          ]
        }
      ]
    },
    {
      "cell_type": "markdown",
      "source": [
        "**75.Given the side length x find the area of a hexagon.**"
      ],
      "metadata": {
        "id": "KWpa1iccOJ-0"
      }
    },
    {
      "cell_type": "code",
      "source": [
        "def area_of_hex(num):\n",
        "  area=((3*math.sqrt(3)*num**2)/2)\n",
        "  print(round(area,1))\n",
        "n=int(input('Enter the number: '))\n",
        "obj=area_of_hex(n)"
      ],
      "metadata": {
        "colab": {
          "base_uri": "https://localhost:8080/"
        },
        "id": "mFUHKtRUON7p",
        "outputId": "3505a006-158d-4746-c67f-b444cced14f9"
      },
      "execution_count": 15,
      "outputs": [
        {
          "output_type": "stream",
          "name": "stdout",
          "text": [
            "Enter the number: 1\n",
            "2.6\n"
          ]
        }
      ]
    },
    {
      "cell_type": "markdown",
      "source": [
        "**76.Create a function that takes three arguments a, b, c and returns the sum of the numbers that are evenly divided by c from the range a, b inclusive.**"
      ],
      "metadata": {
        "id": "mmdo7GJoPA3r"
      }
    },
    {
      "cell_type": "code",
      "source": [
        "def evenly_div(a,b,c):\n",
        "  total=0\n",
        "  for i in range(a,b+1):\n",
        "    if i%c==0:\n",
        "      total+=i\n",
        "  return total\n",
        "a=int(input('Enter a: '))\n",
        "b=int(input('Enter b: '))\n",
        "c=int(input('Enter c: '))\n",
        "obj=evenly_div(a,b,c)\n",
        "print(obj)"
      ],
      "metadata": {
        "colab": {
          "base_uri": "https://localhost:8080/"
        },
        "id": "z93o_muB5mNy",
        "outputId": "e87e1974-2d52-4de7-a1cf-0bfe1854f199"
      },
      "execution_count": 2,
      "outputs": [
        {
          "output_type": "stream",
          "name": "stdout",
          "text": [
            "Enter a: 1\n",
            "Enter b: 10\n",
            "Enter c: 2\n",
            "30\n"
          ]
        }
      ]
    },
    {
      "cell_type": "markdown",
      "source": [
        "**77.Create a function that returns True if a given inequality expression is correct and False otherwise.**"
      ],
      "metadata": {
        "id": "IX8jwuAZ6Zci"
      }
    },
    {
      "cell_type": "code",
      "source": [
        "def exp(expression):\n",
        "  if eval(expression):\n",
        "    return True\n",
        "  else:\n",
        "    return False\n",
        "print(eval('1<2<3'))\n",
        "print(eval('1<2>3'))"
      ],
      "metadata": {
        "colab": {
          "base_uri": "https://localhost:8080/"
        },
        "id": "oCKGns9w6sui",
        "outputId": "c691097e-910d-4764-c5c0-4fc345102849"
      },
      "execution_count": 5,
      "outputs": [
        {
          "output_type": "stream",
          "name": "stdout",
          "text": [
            "True\n",
            "False\n"
          ]
        }
      ]
    },
    {
      "cell_type": "markdown",
      "source": [
        "**78.Create a function that replaces all the vowels in a string with a specified character.**"
      ],
      "metadata": {
        "id": "LB3MipGx69dE"
      }
    },
    {
      "cell_type": "code",
      "source": [
        "def vowel_rep(string,char):\n",
        "  vowels='AEIOUaeiou'\n",
        "  for i in vowels:\n",
        "    string=string.replace(i,char)\n",
        "  print(string)\n",
        "\n",
        "s='apple'\n",
        "obj=vowel_rep(s,'$')"
      ],
      "metadata": {
        "colab": {
          "base_uri": "https://localhost:8080/"
        },
        "id": "ApM9rroa7EKm",
        "outputId": "6c09db95-db40-462e-d1d9-7757f4573aa0"
      },
      "execution_count": 6,
      "outputs": [
        {
          "output_type": "stream",
          "name": "stdout",
          "text": [
            "$ppl$\n"
          ]
        }
      ]
    },
    {
      "cell_type": "markdown",
      "source": [
        "**79.Write a function that calculates the factorial of a number recursively.**"
      ],
      "metadata": {
        "id": "QGbOsXQV7y0o"
      }
    },
    {
      "cell_type": "code",
      "source": [
        "def factorial(n):\n",
        "    if n == 0:\n",
        "      return 1\n",
        "    else:\n",
        "      return n * factorial(n - 1)\n",
        "print(factorial(5))"
      ],
      "metadata": {
        "colab": {
          "base_uri": "https://localhost:8080/"
        },
        "id": "1sNxdq5h8GS-",
        "outputId": "a8a6fba8-cbea-45e9-a73b-136694a1bef5"
      },
      "execution_count": 17,
      "outputs": [
        {
          "output_type": "stream",
          "name": "stdout",
          "text": [
            "120\n"
          ]
        }
      ]
    },
    {
      "cell_type": "markdown",
      "source": [
        "**80.Hamming distance is the number of characters that differ between two strings.**"
      ],
      "metadata": {
        "id": "tUfp6cj29x1q"
      }
    },
    {
      "cell_type": "code",
      "source": [
        "s1=input('Enter s1: ')\n",
        "s2=input('Enter s2: ')\n",
        "distance=0\n",
        "if len(s1)!=len(s2):\n",
        "  print('Length of 2 strings must be same')\n",
        "else:\n",
        "  for i in range(len(s1)):\n",
        "    if s1[i]!=s2[i]:\n",
        "      distance+=1\n",
        "print(distance)"
      ],
      "metadata": {
        "colab": {
          "base_uri": "https://localhost:8080/"
        },
        "id": "9Vj-12gd-An8",
        "outputId": "0b4cbe06-b2e3-4ce7-a81f-eb4ca90fbb12"
      },
      "execution_count": 21,
      "outputs": [
        {
          "output_type": "stream",
          "name": "stdout",
          "text": [
            "Enter s1: abcde\n",
            "Enter s2: bcdef\n",
            "5\n"
          ]
        }
      ]
    },
    {
      "cell_type": "markdown",
      "source": [
        "**81.Create a function that takes a list of non-negative integers and strings and return a new list without the strings.**"
      ],
      "metadata": {
        "id": "LqyqQktg_X4T"
      }
    },
    {
      "cell_type": "code",
      "source": [
        "def check(l):\n",
        "  k=[]\n",
        "  for i in l:\n",
        "    if isinstance(i,int) and i>=0:\n",
        "      k.append(i)\n",
        "  return k\n",
        "li=[1,2,'a','b']\n",
        "obj=check(li)\n",
        "print(obj)\n"
      ],
      "metadata": {
        "colab": {
          "base_uri": "https://localhost:8080/"
        },
        "id": "7hKrAyPGAG1d",
        "outputId": "cad8bd6d-1f43-4686-80b6-977bb2d27ef1"
      },
      "execution_count": 26,
      "outputs": [
        {
          "output_type": "stream",
          "name": "stdout",
          "text": [
            "[1, 2]\n"
          ]
        }
      ]
    },
    {
      "cell_type": "markdown",
      "source": [
        "**82.The \"Reverser\" takes a string as input and returns that string in reverse order, with the opposite case.**"
      ],
      "metadata": {
        "id": "NrAk9MTYBLvn"
      }
    },
    {
      "cell_type": "code",
      "source": [
        "st='jithen'\n",
        "rev=st[::-1]\n",
        "print(rev)"
      ],
      "metadata": {
        "colab": {
          "base_uri": "https://localhost:8080/"
        },
        "id": "yPspxrX1BXsJ",
        "outputId": "05d2290f-3b63-4ef3-ce7f-bbbb8f4ee027"
      },
      "execution_count": 27,
      "outputs": [
        {
          "output_type": "stream",
          "name": "stdout",
          "text": [
            "nehtij\n"
          ]
        }
      ]
    },
    {
      "cell_type": "markdown",
      "source": [
        "**83.Create a function that takes a string and returns a string in which each character is repeated once.**"
      ],
      "metadata": {
        "id": "Zg4b5fXOBdaz"
      }
    },
    {
      "cell_type": "code",
      "source": [
        "def rep(string):\n",
        "  double_str=''\n",
        "  for i in string:\n",
        "    double_str+=i*2\n",
        "  return double_str\n",
        "string='jithen'\n",
        "onj=rep(string)\n",
        "print(onj)\n"
      ],
      "metadata": {
        "colab": {
          "base_uri": "https://localhost:8080/"
        },
        "id": "PLiUjXzmGNfn",
        "outputId": "3945ed14-1498-49a4-9449-e21899d79358"
      },
      "execution_count": 39,
      "outputs": [
        {
          "output_type": "stream",
          "name": "stdout",
          "text": [
            "jjiitthheenn\n"
          ]
        }
      ]
    },
    {
      "cell_type": "markdown",
      "source": [
        "**84.Create a function that reverses a boolean value and returns the string \"boolean expected\" if another variable type is given.**"
      ],
      "metadata": {
        "id": "jM8QLZk2G_V0"
      }
    },
    {
      "cell_type": "code",
      "source": [
        "def val(value):\n",
        "  if isinstance(value,bool):\n",
        "    return not value\n",
        "  else:\n",
        "    return 'boolean expected'\n",
        "print(val(True))"
      ],
      "metadata": {
        "colab": {
          "base_uri": "https://localhost:8080/"
        },
        "id": "s3s2aF3wHK62",
        "outputId": "9d72be59-acd0-48d8-ee85-153f734241d7"
      },
      "execution_count": 40,
      "outputs": [
        {
          "output_type": "stream",
          "name": "stdout",
          "text": [
            "False\n"
          ]
        }
      ]
    },
    {
      "cell_type": "markdown",
      "source": [
        "**85.Create a function that returns the thickness (in meters) of a piece of paper after folding it n number of times. The paper starts off with a thickness of 0.5mm.**"
      ],
      "metadata": {
        "id": "nZj9tX6JHeNn"
      }
    },
    {
      "cell_type": "code",
      "source": [
        "def thick(n):\n",
        "  initial=0.5\n",
        "  final_mm=initial*(2**n)\n",
        "  final_m=final_mm/1000\n",
        "  return final_m\n",
        "num=1\n",
        "obj=thick(num)\n",
        "print(obj)"
      ],
      "metadata": {
        "colab": {
          "base_uri": "https://localhost:8080/"
        },
        "id": "z_UNlHupHnG5",
        "outputId": "669f4373-ca3b-4d05-96b2-0ce629a81389"
      },
      "execution_count": 41,
      "outputs": [
        {
          "output_type": "stream",
          "name": "stdout",
          "text": [
            "0.001\n"
          ]
        }
      ]
    },
    {
      "cell_type": "markdown",
      "source": [
        "**86.Create a function that takes a list of strings and integers, and filters out the list so that it returns a list of integers only.**"
      ],
      "metadata": {
        "id": "bFbZM_pyILpt"
      }
    },
    {
      "cell_type": "code",
      "source": [
        "def filter(n):\n",
        "  return [x for x in n if isinstance(x,int)]\n",
        "num=['a',1,2,'b',3,'c']\n",
        "obj=filter(num)\n",
        "print(obj)"
      ],
      "metadata": {
        "colab": {
          "base_uri": "https://localhost:8080/"
        },
        "id": "U3V4Mq0WIa9x",
        "outputId": "dbf45579-80bc-44d0-ea19-0519bd23dbaa"
      },
      "execution_count": 42,
      "outputs": [
        {
          "output_type": "stream",
          "name": "stdout",
          "text": [
            "[1, 2, 3]\n"
          ]
        }
      ]
    },
    {
      "cell_type": "markdown",
      "source": [
        "**87.Create a function that takes the height and radius of a cone as arguments and returns the volume of the cone rounded to the nearest hundredth. See the resources tab for the formula.**"
      ],
      "metadata": {
        "id": "lbANdIVNIwN-"
      }
    },
    {
      "cell_type": "code",
      "source": [
        "import math\n",
        "def vol(h,r):\n",
        "  if r==0:\n",
        "    return 0\n",
        "  else:\n",
        "    volume=(1/3)*math.pi*(r**2)*h\n",
        "    return volume\n",
        "obj=vol(3,2)\n",
        "print(obj)"
      ],
      "metadata": {
        "colab": {
          "base_uri": "https://localhost:8080/"
        },
        "id": "Sc7XNd2PI6rs",
        "outputId": "253d3ce5-5f91-4d4c-9b39-c567b4f83d1b"
      },
      "execution_count": 44,
      "outputs": [
        {
          "output_type": "stream",
          "name": "stdout",
          "text": [
            "12.566370614359172\n"
          ]
        }
      ]
    },
    {
      "cell_type": "markdown",
      "source": [
        "**88.This Triangular Number Sequence is generated from a pattern of dots that form a triangle. The first 5 numbers of the sequence, or dots, are:1, 3, 6, 10, 15 This means that the first triangle has just one dot, the second one has three dots, the third one has 6 dots and so on. Write a function that gives the number of dots with its corresponding triangle number of the sequence.**"
      ],
      "metadata": {
        "id": "V5sA7QheJ8ST"
      }
    },
    {
      "cell_type": "code",
      "source": [
        "def triangle(n):\n",
        "  if n < 1:\n",
        "    return 0\n",
        "  return n * (n + 1) // 2\n",
        "print(triangle(6))"
      ],
      "metadata": {
        "colab": {
          "base_uri": "https://localhost:8080/"
        },
        "id": "FAswydwlKeII",
        "outputId": "9604e053-477e-4a42-e500-2cd3d7527c9d"
      },
      "execution_count": 45,
      "outputs": [
        {
          "output_type": "stream",
          "name": "stdout",
          "text": [
            "21\n"
          ]
        }
      ]
    },
    {
      "cell_type": "markdown",
      "source": [
        "**89.Create a function that takes a list of numbers between 1 and 10 (excluding one number) and returns the missing number.**"
      ],
      "metadata": {
        "id": "13WgG6feKqhd"
      }
    },
    {
      "cell_type": "code",
      "source": [
        "def missing(lst):\n",
        "  total=sum(range(1,11))\n",
        "  given=sum(lst)\n",
        "  return total-given\n",
        "l=[1,2,3,4,5,7,8,9,10]\n",
        "print(missing(l))"
      ],
      "metadata": {
        "colab": {
          "base_uri": "https://localhost:8080/"
        },
        "id": "yEjEZRLGK_hK",
        "outputId": "5bf78a2b-1329-4d8b-f198-4786964bd48c"
      },
      "execution_count": 46,
      "outputs": [
        {
          "output_type": "stream",
          "name": "stdout",
          "text": [
            "6\n"
          ]
        }
      ]
    },
    {
      "cell_type": "markdown",
      "source": [
        "**90.Write a function that takes a list and a number as arguments. Add the number to the end of the list, then remove the first element of the list. The function should then return the updated list.**"
      ],
      "metadata": {
        "id": "jS7nk0jsLcnu"
      }
    },
    {
      "cell_type": "code",
      "source": [
        "def up(l,n):\n",
        "  l.pop(0)\n",
        "  l.append(n)\n",
        "  print(l)\n",
        "li=[1,2,3,4,5]\n",
        "num=6\n",
        "obj=up(li,num)"
      ],
      "metadata": {
        "colab": {
          "base_uri": "https://localhost:8080/"
        },
        "id": "hT0xN3t8LuDP",
        "outputId": "0738a330-0062-495d-a365-0a8f8a844f2c"
      },
      "execution_count": 47,
      "outputs": [
        {
          "output_type": "stream",
          "name": "stdout",
          "text": [
            "[2, 3, 4, 5, 6]\n"
          ]
        }
      ]
    },
    {
      "cell_type": "markdown",
      "source": [
        "**91.Create the function that takes a list of dictionaries and returns the sum of people's budgets.**"
      ],
      "metadata": {
        "id": "gZgtgULBL_0U"
      }
    },
    {
      "cell_type": "code",
      "source": [
        "def bed(l):\n",
        "  total=sum(person['budget'] for person in l)\n",
        "  return total\n",
        "budgets1 = [\n",
        "{'name': 'John', 'age': 21, 'budget': 23000},\n",
        "{'name': 'Steve', 'age': 32, 'budget': 40000},\n",
        "{'name': 'Martin', 'age': 16, 'budget': 2700}\n",
        "]\n",
        "obj=bed(budgets1)\n",
        "print(obj)"
      ],
      "metadata": {
        "colab": {
          "base_uri": "https://localhost:8080/"
        },
        "id": "bBD-dWJoMUZe",
        "outputId": "2a37462b-6430-4409-f242-fc5e749e6471"
      },
      "execution_count": 52,
      "outputs": [
        {
          "output_type": "stream",
          "name": "stdout",
          "text": [
            "65700\n"
          ]
        }
      ]
    },
    {
      "cell_type": "markdown",
      "source": [
        "**92.Create a function that takes a string and returns a string with its letters in alphabetical order.**"
      ],
      "metadata": {
        "id": "H3dPwdQ7M8Gh"
      }
    },
    {
      "cell_type": "code",
      "source": [
        "def sor(s):\n",
        "  s=sorted(s)\n",
        "  print(''.join(s))\n",
        "s1='jithen'\n",
        "obj=sor(s1)"
      ],
      "metadata": {
        "colab": {
          "base_uri": "https://localhost:8080/"
        },
        "id": "MkDfwVWuNHwo",
        "outputId": "bf8e2ec0-944d-439e-a924-fd35e0564fd0"
      },
      "execution_count": 54,
      "outputs": [
        {
          "output_type": "stream",
          "name": "stdout",
          "text": [
            "ehijnt\n"
          ]
        }
      ]
    },
    {
      "cell_type": "markdown",
      "source": [
        "**93.Suppose that you invest $10,000 for 10 years at an interest rate of 6% compounded monthly. What will be the value of your investment at the end of the 10 year period? Create a function that accepts the principal p, the term in years t, the interest rate r, and the number of compounding periods per year n. The function returns the value at the end of term rounded to the nearest cent.**"
      ],
      "metadata": {
        "id": "IBbOdUx7NUy4"
      }
    },
    {
      "cell_type": "code",
      "source": [
        "def compound_interest(p, t, r, n):\n",
        "  a = p * (1 + (r / n)) ** (n * t)\n",
        "  return round(a, 2)\n",
        "compound_interest(10000, 10, 0.06, 12)"
      ],
      "metadata": {
        "colab": {
          "base_uri": "https://localhost:8080/"
        },
        "id": "fj2IsXu7NgGd",
        "outputId": "ec6a8852-d4da-44a4-a2fa-3411c6da2ef9"
      },
      "execution_count": 55,
      "outputs": [
        {
          "output_type": "execute_result",
          "data": {
            "text/plain": [
              "18193.97"
            ]
          },
          "metadata": {},
          "execution_count": 55
        }
      ]
    },
    {
      "cell_type": "markdown",
      "source": [
        "**94.Write a function that takes a list of elements and returns only the integers.**"
      ],
      "metadata": {
        "id": "if1ajQFiNsBv"
      }
    },
    {
      "cell_type": "code",
      "source": [
        "def ret(s):\n",
        "  return [x for x in s if isinstance(x,int)]\n",
        "l=['jithen',1,'shekar',2,3]\n",
        "obj=ret(l)\n",
        "print(obj)"
      ],
      "metadata": {
        "colab": {
          "base_uri": "https://localhost:8080/"
        },
        "id": "utsdhOwzN0by",
        "outputId": "67a621ac-0450-4b3d-b72e-d727c62e14a3"
      },
      "execution_count": 58,
      "outputs": [
        {
          "output_type": "stream",
          "name": "stdout",
          "text": [
            "[1, 2, 3]\n"
          ]
        }
      ]
    },
    {
      "cell_type": "markdown",
      "source": [
        "**95.Create a function that takes three parameters where x is the start of the range (inclusive). y is the end of the range (inclusive).n is the divisor to be checked against.Return an ordered list with numbers in the range that are divisible by the third parameter n.**"
      ],
      "metadata": {
        "id": "0zj1hBjQO3Mg"
      }
    },
    {
      "cell_type": "code",
      "source": [
        "def list_operation(x, y, n):\n",
        "  return [num for num in range(x, y + 1) if num % n == 0]\n",
        "list_operation(1, 10, 3)"
      ],
      "metadata": {
        "colab": {
          "base_uri": "https://localhost:8080/"
        },
        "id": "ZxA_4piDPOMV",
        "outputId": "a23703a3-c086-4cf8-ddf5-a42ed770e0a4"
      },
      "execution_count": 64,
      "outputs": [
        {
          "output_type": "execute_result",
          "data": {
            "text/plain": [
              "[3, 6, 9]"
            ]
          },
          "metadata": {},
          "execution_count": 64
        }
      ]
    },
    {
      "cell_type": "markdown",
      "source": [
        "**96.Create a function that takes in two lists and returns True if the second list follows the first list by one element, and False otherwise. In other words, determine if the second list is the first list shifted to the right by 1.**"
      ],
      "metadata": {
        "id": "c-Bwz1FKQSnu"
      }
    },
    {
      "cell_type": "code",
      "source": [
        "def simon_says(list1, list2):\n",
        "  return list1[:-1] == list2[1:]\n",
        "simon_says([1, 2], [5, 1])"
      ],
      "metadata": {
        "colab": {
          "base_uri": "https://localhost:8080/"
        },
        "id": "pJCGQDfrQYEq",
        "outputId": "cd6b4914-f0e0-47c9-b7e2-4486e9e056e2"
      },
      "execution_count": 65,
      "outputs": [
        {
          "output_type": "execute_result",
          "data": {
            "text/plain": [
              "True"
            ]
          },
          "metadata": {},
          "execution_count": 65
        }
      ]
    },
    {
      "cell_type": "markdown",
      "source": [
        "**97.A group of friends have decided to start a secret society. The name will be the first letter of each of their names, sorted in alphabetical order. Create a function that takes in a list of names and returns the name of the secret society.**"
      ],
      "metadata": {
        "id": "bXWYLrvAQv_2"
      }
    },
    {
      "cell_type": "code",
      "source": [
        "def soc(l):\n",
        "  sec_name=''.join(name[0] for name in l)\n",
        "  print(sec_name)\n",
        "soc([\"Adam\", \"Sarah\", \"Malcolm\"])"
      ],
      "metadata": {
        "colab": {
          "base_uri": "https://localhost:8080/"
        },
        "id": "HUs2J-JGQ8yI",
        "outputId": "ec4f9602-aa7d-4b0a-b12b-2a294dfaa42b"
      },
      "execution_count": 66,
      "outputs": [
        {
          "output_type": "stream",
          "name": "stdout",
          "text": [
            "ASM\n"
          ]
        }
      ]
    },
    {
      "cell_type": "markdown",
      "source": [
        "**98.Create a function that takes a string and returns True or False, depending on whether the characters are in order or not.**"
      ],
      "metadata": {
        "id": "Ec2l3LV-RcA7"
      }
    },
    {
      "cell_type": "code",
      "source": [
        "def is_in_order(s):\n",
        "  return s == ''.join(sorted(s))\n",
        "is_in_order(\"abc\")"
      ],
      "metadata": {
        "colab": {
          "base_uri": "https://localhost:8080/"
        },
        "id": "rRfpzUw6Rknj",
        "outputId": "77821714-d694-43e9-e03a-5dfcfe4b61e0"
      },
      "execution_count": 67,
      "outputs": [
        {
          "output_type": "execute_result",
          "data": {
            "text/plain": [
              "True"
            ]
          },
          "metadata": {},
          "execution_count": 67
        }
      ]
    },
    {
      "cell_type": "markdown",
      "source": [
        "**99.Create a function that takes a number as an argument and returns True or False depending on whether the number is symmetrical or not. A number is symmetrical when it is the same as its reverse.**"
      ],
      "metadata": {
        "id": "LbwBc7JyRuj5"
      }
    },
    {
      "cell_type": "code",
      "source": [
        "def is_symmetrical(num):\n",
        "  num_str = str(num)\n",
        "  return num_str == num_str[::-1]\n",
        "is_symmetrical(7227)"
      ],
      "metadata": {
        "colab": {
          "base_uri": "https://localhost:8080/"
        },
        "id": "1p6g_hU9Rz0i",
        "outputId": "8a17b450-c441-4517-fb0e-02fc00582810"
      },
      "execution_count": 68,
      "outputs": [
        {
          "output_type": "execute_result",
          "data": {
            "text/plain": [
              "True"
            ]
          },
          "metadata": {},
          "execution_count": 68
        }
      ]
    },
    {
      "cell_type": "markdown",
      "source": [
        "**100.Given a string of numbers separated by a comma and space, return the product of the numbers.**"
      ],
      "metadata": {
        "id": "kONV5KRxR73s"
      }
    },
    {
      "cell_type": "code",
      "source": [
        "def multiply_nums(nums_str):\n",
        "  nums = [int(num) for num in nums_str.split(\", \")]\n",
        "  result = 1\n",
        "  for num in nums:\n",
        "    result *= num\n",
        "  return result\n",
        "multiply_nums(\"2, 3\")"
      ],
      "metadata": {
        "colab": {
          "base_uri": "https://localhost:8080/"
        },
        "id": "1T9-Mh-sSCQQ",
        "outputId": "dd87166d-fd08-4d7b-860d-603e745a8609"
      },
      "execution_count": 69,
      "outputs": [
        {
          "output_type": "execute_result",
          "data": {
            "text/plain": [
              "6"
            ]
          },
          "metadata": {},
          "execution_count": 69
        }
      ]
    }
  ]
}